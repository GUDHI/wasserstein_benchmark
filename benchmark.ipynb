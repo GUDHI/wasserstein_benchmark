{
 "cells": [
  {
   "cell_type": "markdown",
   "metadata": {},
   "source": [
    "Notebook tutorial to benchmark estimation of Wasserstein distances\n",
    "\n",
    "@author: Theo Lacombe"
   ]
  },
  {
   "cell_type": "markdown",
   "metadata": {},
   "source": [
    "Standard import (check README.md for dependancies)"
   ]
  },
  {
   "cell_type": "code",
   "execution_count": 9,
   "metadata": {},
   "outputs": [],
   "source": [
    "import numpy as np\n",
    "from wdist import Wdist\n",
    "from subprocess import check_output\n",
    "from time import time  # To running time monitoring"
   ]
  },
  {
   "cell_type": "markdown",
   "metadata": {},
   "source": [
    "List of filenames for diagrams"
   ]
  },
  {
   "cell_type": "code",
   "execution_count": 10,
   "metadata": {},
   "outputs": [],
   "source": [
    "ns = [5, 100, 200, 5000]\n",
    "list_names_As = [\"./datatests/test_%s_A\" %n for n in ns]\n",
    "list_names_Bs = [\"./datatests/test_%s_B\" %n for n in ns]"
   ]
  },
  {
   "cell_type": "markdown",
   "metadata": {},
   "source": [
    "Define global defaults param"
   ]
  },
  {
   "cell_type": "code",
   "execution_count": 11,
   "metadata": {},
   "outputs": [],
   "source": [
    "p = 2."
   ]
  },
  {
   "cell_type": "markdown",
   "metadata": {},
   "source": [
    "Hera benchmark"
   ]
  },
  {
   "cell_type": "code",
   "execution_count": 12,
   "metadata": {},
   "outputs": [],
   "source": [
    "path_to_hera_script = \"./hera/geom_matching/wasserstein/build/wasserstein_dist\"\n",
    "def hera(fileA, fileB):\n",
    "    Z = check_output([path_to_hera_script, fileA, fileB, \"-q\", str(p), \"-p\", str(p)])\n",
    "    return float(Z)"
   ]
  },
  {
   "cell_type": "code",
   "execution_count": 15,
   "metadata": {},
   "outputs": [
    {
     "name": "stdout",
     "output_type": "stream",
     "text": [
      "Running time with 5 points: 0.0073 s\n",
      "Value (0.01 relative error): 2.2665\n",
      "Running time with 100 points: 0.0287 s\n",
      "Value (0.01 relative error): 3.8112\n",
      "Running time with 200 points: 0.0434 s\n",
      "Value (0.01 relative error): 4.2974\n",
      "Running time with 5000 points: 7.0701 s\n",
      "Value (0.01 relative error): 6.3109\n"
     ]
    }
   ],
   "source": [
    "for n in ns:\n",
    "    fileA = \"./datatests/test_%s_A\" %n\n",
    "    fileB = \"./datatests/test_%s_B\" %n\n",
    "    t_start = time()\n",
    "    d = hera(fileA, fileB)\n",
    "    t_end = time()\n",
    "    print(\"Running time with %s points:\" %n, np.round(t_end - t_start, 4), \"s\")\n",
    "    print(\"Value (0.01 relative error):\", np.round(d,4))"
   ]
  },
  {
   "cell_type": "markdown",
   "metadata": {},
   "source": [
    "OT benchmark"
   ]
  },
  {
   "cell_type": "code",
   "execution_count": 25,
   "metadata": {},
   "outputs": [
    {
     "name": "stdout",
     "output_type": "stream",
     "text": [
      "Running time with 5 points: 0.0004 s\n",
      "Value (exact): 2.2665\n",
      "Running time with 100 points: 0.0361 s\n",
      "Value (exact): 3.8111\n",
      "Running time with 200 points: 0.0106 s\n",
      "Value (exact): 4.2974\n",
      "Running time with 5000 points: 4.5728 s\n",
      "Value (exact): 6.589\n"
     ]
    },
    {
     "name": "stderr",
     "output_type": "stream",
     "text": [
      "/home/theo/anaconda3/envs/wdist/lib/python3.7/site-packages/ot/lp/__init__.py:211: UserWarning: numItermax reached before optimality. Try to increase numItermax.\n",
      "  check_result(result_code)\n"
     ]
    }
   ],
   "source": [
    "for n in ns:\n",
    "    fileA = \"./datatests/test_%s_A\" %n\n",
    "    fileB = \"./datatests/test_%s_B\" %n\n",
    "    A = np.loadtxt(fileA)\n",
    "    B = np.loadtxt(fileB)\n",
    "    t_start = time()\n",
    "    d = Wdist(A, B)\n",
    "    t_end = time()\n",
    "    print(\"Running time with %s points:\" %n, np.round(t_end - t_start, 4), \"s\")\n",
    "    print(\"Value (exact):\", np.round(d,4))\n",
    "    \n",
    "    #TODO: check numitermax in the 5000 points case."
   ]
  }
 ],
 "metadata": {
  "kernelspec": {
   "display_name": "Python 3",
   "language": "python",
   "name": "python3"
  },
  "language_info": {
   "codemirror_mode": {
    "name": "ipython",
    "version": 3
   },
   "file_extension": ".py",
   "mimetype": "text/x-python",
   "name": "python",
   "nbconvert_exporter": "python",
   "pygments_lexer": "ipython3",
   "version": "3.7.4"
  }
 },
 "nbformat": 4,
 "nbformat_minor": 2
}
